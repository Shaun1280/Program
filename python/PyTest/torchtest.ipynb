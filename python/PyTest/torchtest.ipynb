{
 "cells": [
  {
   "cell_type": "code",
   "execution_count": 17,
   "metadata": {},
   "outputs": [
    {
     "name": "stdout",
     "output_type": "stream",
     "text": [
      "tensor([[1.0653e-38, 1.0194e-38, 4.6838e-39],\n",
      "        [8.4489e-39, 9.6429e-39, 8.4490e-39],\n",
      "        [9.6429e-39, 9.2755e-39, 1.0286e-38],\n",
      "        [9.0919e-39, 8.9082e-39, 9.2755e-39],\n",
      "        [8.4490e-39, 9.2755e-39, 1.0561e-38]])\n",
      "tensor([[0, 0, 0],\n",
      "        [0, 0, 0],\n",
      "        [0, 0, 0],\n",
      "        [0, 0, 0],\n",
      "        [0, 0, 0]])\n",
      "tensor([5.5000, 3.0000])\n",
      "tensor([[1., 1., 1.],\n",
      "        [1., 1., 1.],\n",
      "        [1., 1., 1.],\n",
      "        [1., 1., 1.],\n",
      "        [1., 1., 1.]], dtype=torch.float64)\n"
     ]
    }
   ],
   "source": [
    "import torch\n",
    "\n",
    "x = torch.empty(5, 3)\n",
    "print(x)\n",
    "\n",
    "x = torch.zeros(5, 3, dtype=torch.long)\n",
    "print(x)\n",
    "\n",
    "x = torch.tensor([5.5, 3])\n",
    "print(x)\n",
    "\n",
    "x = x.new_ones(5, 3, dtype=torch.double)\n",
    "print(x)\n"
   ]
  },
  {
   "cell_type": "code",
   "execution_count": 3,
   "metadata": {},
   "outputs": [
    {
     "name": "stdout",
     "output_type": "stream",
     "text": [
      "tensor([[0.8508, 0.9738, 0.0919],\n",
      "        [0.9552, 0.1984, 0.4529],\n",
      "        [0.5337, 0.3116, 0.1141],\n",
      "        [0.6034, 0.3606, 0.2269],\n",
      "        [0.0252, 0.5468, 0.6703]])\n",
      "torch.Size([5, 3])\n",
      "tensor([[1.0209, 1.6176, 0.3622],\n",
      "        [1.0623, 0.9106, 0.6414],\n",
      "        [1.1648, 0.3173, 0.8764],\n",
      "        [0.9040, 0.6648, 0.7751],\n",
      "        [0.3328, 1.4095, 0.8451]])\n",
      "tensor([[1.0209, 1.6176, 0.3622],\n",
      "        [1.0623, 0.9106, 0.6414],\n",
      "        [1.1648, 0.3173, 0.8764],\n",
      "        [0.9040, 0.6648, 0.7751],\n",
      "        [0.3328, 1.4095, 0.8451]])\n",
      "tensor([0.9738, 0.1984, 0.3116, 0.3606, 0.5468])\n"
     ]
    }
   ],
   "source": [
    "x = torch.rand_like(x, dtype=torch.float)\n",
    "print(x)\n",
    "\n",
    "print(x.size())\n",
    "\n",
    "y = torch.rand(5, 3)\n",
    "print(x + y)\n",
    "print(torch.add(x, y))\n",
    "\n",
    "print(x[:, 1])"
   ]
  },
  {
   "attachments": {},
   "cell_type": "markdown",
   "metadata": {},
   "source": [
    "view 操作可以改变矩阵维度"
   ]
  },
  {
   "cell_type": "code",
   "execution_count": 8,
   "metadata": {},
   "outputs": [
    {
     "name": "stdout",
     "output_type": "stream",
     "text": [
      "torch.Size([4, 4]) torch.Size([16]) torch.Size([2, 8])\n",
      "tensor([[-0.7472,  0.2616, -2.1538, -0.4864],\n",
      "        [ 1.4635,  1.1450, -0.7236,  1.3751],\n",
      "        [-0.9010,  0.1118, -0.8604,  0.1466],\n",
      "        [ 0.4066, -0.3960, -0.1872, -0.3290]])\n",
      "tensor([-0.7472,  0.2616, -2.1538, -0.4864,  1.4635,  1.1450, -0.7236,  1.3751,\n",
      "        -0.9010,  0.1118, -0.8604,  0.1466,  0.4066, -0.3960, -0.1872, -0.3290])\n",
      "tensor([[-0.7472,  0.2616, -2.1538, -0.4864,  1.4635,  1.1450, -0.7236,  1.3751],\n",
      "        [-0.9010,  0.1118, -0.8604,  0.1466,  0.4066, -0.3960, -0.1872, -0.3290]])\n"
     ]
    }
   ],
   "source": [
    "x = torch.randn(4, 4)\n",
    "y = x.view(16)\n",
    "z = x.view(-1, 8) # -1 表示第一个维度自行计算得到\n",
    "print(x.size(), y.size(), z.size())\n",
    "print(x)\n",
    "print(y)\n",
    "print(z)"
   ]
  },
  {
   "attachments": {},
   "cell_type": "markdown",
   "metadata": {},
   "source": [
    "与 Numpy 协同操作"
   ]
  },
  {
   "cell_type": "code",
   "execution_count": 11,
   "metadata": {},
   "outputs": [
    {
     "data": {
      "text/plain": [
       "array([1., 1., 1., 1., 1.], dtype=float32)"
      ]
     },
     "execution_count": 11,
     "metadata": {},
     "output_type": "execute_result"
    }
   ],
   "source": [
    "a = torch.ones(5)\n",
    "\n",
    "b = a.numpy()\n",
    "b"
   ]
  },
  {
   "cell_type": "code",
   "execution_count": 16,
   "metadata": {},
   "outputs": [
    {
     "data": {
      "text/plain": [
       "tensor([1., 1., 1., 1., 1.], dtype=torch.float64)"
      ]
     },
     "execution_count": 16,
     "metadata": {},
     "output_type": "execute_result"
    }
   ],
   "source": [
    "import numpy as np\n",
    "\n",
    "a = np.ones(5)\n",
    "b = torch.from_numpy(a)\n",
    "b"
   ]
  }
 ],
 "metadata": {
  "kernelspec": {
   "display_name": "Python 3",
   "language": "python",
   "name": "python3"
  },
  "language_info": {
   "codemirror_mode": {
    "name": "ipython",
    "version": 3
   },
   "file_extension": ".py",
   "mimetype": "text/x-python",
   "name": "python",
   "nbconvert_exporter": "python",
   "pygments_lexer": "ipython3",
   "version": "3.9.7 (tags/v3.9.7:1016ef3, Aug 30 2021, 20:19:38) [MSC v.1929 64 bit (AMD64)]"
  },
  "orig_nbformat": 4,
  "vscode": {
   "interpreter": {
    "hash": "81794d4967e6c3204c66dcd87b604927b115b27c00565d3d43f05ba2f3a2cb0d"
   }
  }
 },
 "nbformat": 4,
 "nbformat_minor": 2
}
